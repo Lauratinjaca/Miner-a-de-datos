{
  "nbformat": 4,
  "nbformat_minor": 0,
  "metadata": {
    "colab": {
      "provenance": [],
      "collapsed_sections": []
    },
    "kernelspec": {
      "name": "python3",
      "display_name": "Python 3"
    },
    "language_info": {
      "name": "python"
    }
  },
  "cells": [
    {
      "cell_type": "markdown",
      "source": [
        "# Universidad Santo Tomás\n",
        "# Facultad de estadística\n",
        "# Taller 1 Phyton\n",
        "## Laura Jimena Tinjacá Lara\n"
      ],
      "metadata": {
        "id": "QLbpEXCWh8mN"
      }
    },
    {
      "cell_type": "markdown",
      "source": [
        "# 1. Cree una función que transforme grados Fahrenheit a grados centígrados"
      ],
      "metadata": {
        "id": "td9DlamliUcB"
      }
    },
    {
      "cell_type": "code",
      "source": [
        "def conver():\n",
        "  f = float(input(\"Ingrese los grados Fahrenheit\"))\n",
        "  c = (f-32)/1.8\n",
        "  print(f,\"grados Fahrenheit equivalen a \",c,\"grados centígrados\")\n",
        "  "
      ],
      "metadata": {
        "id": "UkBqJw3Niogs"
      },
      "execution_count": 198,
      "outputs": []
    },
    {
      "cell_type": "code",
      "source": [
        "conver()"
      ],
      "metadata": {
        "colab": {
          "base_uri": "https://localhost:8080/"
        },
        "id": "m8rrm9v5jfr1",
        "outputId": "e3376b1b-cf3b-4b98-b37d-ba17a3db9dd8"
      },
      "execution_count": 199,
      "outputs": [
        {
          "output_type": "stream",
          "name": "stdout",
          "text": [
            "Ingrese los grados Fahrenheit5289\n",
            "5289.0 grados Fahrenheit equivalen a  2920.5555555555557 grados centígrados\n"
          ]
        }
      ]
    },
    {
      "cell_type": "markdown",
      "source": [
        "#2. Escribir un programa que almacene la cadena de caracteres contraseña en una variable, pregunte al usuario por la contraseña e imprima por pantalla si el valor es correcto o no en función de los siguientes aspectos:\n",
        "1. Falta al menos un carácter numérico\n",
        "2. Falta al menos uno de los siguientes carácter especiales : *, _ , !, $, %\n",
        "3. Falta al menos una mayúscula"
      ],
      "metadata": {
        "id": "xk0frjQokUkg"
      }
    },
    {
      "cell_type": "code",
      "source": [
        "import numpy as np\n",
        "referen = np.arange(0,1000000,1)\n",
        "nn = []\n",
        "for i in range(len(referen)):\n",
        "  nn.append(str(i))\n",
        "def contr():\n",
        "  contraseña = input(\"Ingrese su contraseña\")\n",
        "  caracteres = ['*','_','!','$','%','/','-']\n",
        "  numeros = nn\n",
        "  refmay=0\n",
        "  refnum=0\n",
        "  refcar=0\n",
        "  for i in range(0,len(contraseña)):\n",
        "    for j in range(0,len(contraseña)):\n",
        "      refmay = refmay + (contraseña[j].isupper())*1\n",
        "    for j in range(0,len(numeros)):\n",
        "      refnum = refnum + (contraseña[i]==numeros[j])\n",
        "    for j in range(0,len(caracteres)):\n",
        "      refcar = refcar + (contraseña[i]==caracteres[j])\n",
        "  i=+1\n",
        "  if refmay == 0:\n",
        "    print(\"Ingrese al menos una mayúscula\")\n",
        "  else:\n",
        "    if refnum == 0:\n",
        "      print(\"Ingrese al menos un número\")\n",
        "    else:\n",
        "      if refcar == 0:\n",
        "        print(\"Ingrese al menos un caracter especial como: *, _ , !, $, %,/,-\")\n",
        "      else:\n",
        "        print(\"Su contraseña es válida\")"
      ],
      "metadata": {
        "id": "o91L2I8Okbix"
      },
      "execution_count": 212,
      "outputs": []
    },
    {
      "cell_type": "code",
      "source": [
        "contr()"
      ],
      "metadata": {
        "colab": {
          "base_uri": "https://localhost:8080/"
        },
        "id": "ZGDwQoYJ21nG",
        "outputId": "d1429d97-85de-4e25-86e0-982641b02146"
      },
      "execution_count": 219,
      "outputs": [
        {
          "output_type": "stream",
          "name": "stdout",
          "text": [
            "Ingrese su contraseñaHolaR23$Y\n",
            "Su contraseña es válida\n"
          ]
        }
      ]
    },
    {
      "cell_type": "markdown",
      "source": [
        "# 3. Laura y Sebastián vieron una promoción en Buscalibre dónde por la compra de 2 libros te llevas el tercero de menor valor. Ellos quieren analizar si hay una forma de adquirir 6 libros en dónde puedan sacar la mayor ganancia posible. Las opciones de libros son los siguientes:\n",
        "* Libro 1 por $50.000\n",
        "\n",
        "* Libro 2 por $30.000\n",
        "\n",
        "* Libro 3 por $80.000\n",
        "\n",
        "* Libro 4 por $20.000\n",
        "\n",
        "* Libro 5 por $100.000\n",
        "\n",
        "* Libro 6 por $40.000\n",
        "\n",
        "Escriba un programa que arroje cual debería ser la combinación de libros adecuada para ahorrar lo máximo posible.\n",
        "Ejemplo de Salida:\n",
        "* Combinación de libros 1: Libro 1, 4 y 6.\n",
        "* Combinación de libros 2: Libro 2, 3, 5.\n",
        "* Total de dinero ahorrado: “Total de libros” – “Descuento de promoción”. "
      ],
      "metadata": {
        "id": "_mss0ayM4IMr"
      }
    },
    {
      "cell_type": "code",
      "source": [
        "from pandas.core.arrays.interval import NA\n",
        "from itertools import combinations\n",
        "import pandas as pd\n",
        "valor = [50000,30000,80000,20000,100000,40000]\n",
        "names = [\"Libro 1\",\"Libro 2\",\"Libro 3\",\"Libro 4\",\"Libro 5\",\"Libro 6\"]\n",
        "temp = list(combinations(valor, 3))\n",
        "cnames = list(combinations(names, 3))\n",
        "resul = pd.DataFrame(cnames)\n",
        "comb = []\n",
        "desc = []\n",
        "for i in range(len(temp)):\n",
        "  comb.append(sum(list(temp[i])) - min(list(temp[i]))) \n",
        "  desc.append(min(list(temp[i])))\n",
        "resul = resul.assign(Preciofinal = comb)\n",
        "resul = resul.assign(Descuento = desc)\n",
        "def myfunc(curr):\n",
        "  if curr in (\"Dolar\", \"Euro\", \"Libra\"):\n",
        "    return \"0\"+curr\n",
        "  else:\n",
        "    return curr\n",
        "resul = resul.sort_values(by=\"Preciofinal\", key=lambda x: x.apply(myfunc))\n",
        "print(resul)\n",
        "comb1 = resul.iloc [0, :]\n",
        "comb2= resul.iloc [1, :]\n",
        "\n",
        "print(\"La mejor forma de sacar la máxima ganancia es: \\nCombinación de libros 1: \",comb1[0],comb1[1],comb1[2],\"\\nCombinación de libros 2: \",comb2[0],comb2[1],comb2[2],\"\\nEl pago total fue de: \",resul.iloc[0,3]+resul.iloc[1,3], \"\\nEl descuento total fue de: \",resul.iloc[0,4]+resul.iloc[1,4])"
      ],
      "metadata": {
        "colab": {
          "base_uri": "https://localhost:8080/"
        },
        "id": "Ky40YTD47wTG",
        "outputId": "6cce8e63-4e12-4362-f7fb-42ce473f1e90"
      },
      "execution_count": 221,
      "outputs": [
        {
          "output_type": "stream",
          "name": "stdout",
          "text": [
            "          0        1        2  Preciofinal  Descuento\n",
            "14  Libro 2  Libro 4  Libro 6        70000      20000\n",
            "1   Libro 1  Libro 2  Libro 4        80000      20000\n",
            "3   Libro 1  Libro 2  Libro 6        90000      30000\n",
            "8   Libro 1  Libro 4  Libro 6        90000      20000\n",
            "10  Libro 2  Libro 3  Libro 4       110000      20000\n",
            "17  Libro 3  Libro 4  Libro 6       120000      20000\n",
            "12  Libro 2  Libro 3  Libro 6       120000      30000\n",
            "0   Libro 1  Libro 2  Libro 3       130000      30000\n",
            "4   Libro 1  Libro 3  Libro 4       130000      20000\n",
            "6   Libro 1  Libro 3  Libro 6       130000      40000\n",
            "13  Libro 2  Libro 4  Libro 5       130000      20000\n",
            "15  Libro 2  Libro 5  Libro 6       140000      30000\n",
            "19  Libro 4  Libro 5  Libro 6       140000      20000\n",
            "7   Libro 1  Libro 4  Libro 5       150000      20000\n",
            "2   Libro 1  Libro 2  Libro 5       150000      30000\n",
            "9   Libro 1  Libro 5  Libro 6       150000      40000\n",
            "18  Libro 3  Libro 5  Libro 6       180000      40000\n",
            "5   Libro 1  Libro 3  Libro 5       180000      50000\n",
            "16  Libro 3  Libro 4  Libro 5       180000      20000\n",
            "11  Libro 2  Libro 3  Libro 5       180000      30000\n",
            "La mejor forma de sacar la máxima ganancia es: \n",
            "Combinación de libros 1:  Libro 2 Libro 4 Libro 6 \n",
            "Combinación de libros 2:  Libro 1 Libro 2 Libro 4 \n",
            "El pago total fue de:  150000 \n",
            "El descuento total fue de:  40000\n"
          ]
        }
      ]
    }
  ]
}