{
  "cells": [
    {
      "cell_type": "markdown",
      "metadata": {
        "id": "gqDPEMhZyKFy"
      },
      "source": [
        "# Árbol de decisión\n",
        "\n",
        "Según el siguiente árbol de decisión, analice y responda:\n",
        "\n",
        "![Obama-Clinton decision tree](https://github.com/justmarkham/DAT8/raw/226791169b1cc6df8e8845c12e34e748d5ffaa85/notebooks/images/obama_clinton_tree.jpg)"
      ]
    },
    {
      "cell_type": "markdown",
      "metadata": {
        "id": "3dk2ih2FyT8i"
      },
      "source": [
        "## 1.1 ¿Qué son las observaciones? ¿Cuántas observaciones hay?\n"
      ]
    },
    {
      "cell_type": "markdown",
      "metadata": {
        "id": "7bcxZCY3yxv5"
      },
      "source": [
        "La división geográfica, administrativa y política de Estados Unidos principalmente se define por 50 estados, los cuales están subdivididos en condados. <BR> Ahora bien, en Estados Unidos, el presidente es elegido mediante un colegio electoral y cada estado tiene una cantidad de votos electorales equivalente al número de senadores y representantes del congreso. La votación de cada miembro del colegio electoral será definida por cómo votaron los ciudadanos. <BR> Por lo tanto, las observaciones del árbol corresponden a condados y se tiene un total de 2241."
      ]
    },
    {
      "cell_type": "markdown",
      "metadata": {
        "id": "bl0Y4beuyaie"
      },
      "source": [
        "## 1.2 ¿Cuál es la variable de respuesta?\n"
      ]
    },
    {
      "cell_type": "markdown",
      "metadata": {
        "id": "SGhpIhmDy4eS"
      },
      "source": [
        "La variable respuesta es la posibilidad que tiene un candidado de ganar las elecciones teniendo en cuenta diferentes factores. Esta posibilidad está representada como el chance que tiene cierto candidato de ganar con respecto a la posibilidad que tendría en contra. <BR> En otras palabras, dice cuántos votos favorables tendría contra los votos que no recibiría en ciertos condados."
      ]
    },
    {
      "cell_type": "markdown",
      "metadata": {
        "id": "eZD45NjhydqE"
      },
      "source": [
        "## 1.3 ¿Cuáles son las características?¿Cuál es la característica más predictiva?\n"
      ]
    },
    {
      "cell_type": "markdown",
      "metadata": {
        "id": "lnLygKaty48_"
      },
      "source": [
        "Las características utilizadas para discriminar en el árbol de decisión son:\n",
        "* Los condados que tengan un porcentaje de población afroamericana mayor al 20%, que se definirían como condados con una población afroamericana grande.\n",
        "* Los condados que tengan una tasa de graduados de la secundaria mayor al 78%,que se definirían como condados con un mayor número de votantes educados.\n",
        "* Los condados que tengan una tasa de graduados de la secundaria mayor al 87% que se definirían como condados con un alto nivel educativo, en contra de condados en donde del 78-87% de la población tienen un diploma.\n",
        "* La ubicación geográfica del condado dependiendo si está ubicado al oeste o al medio oeste; o por otro lado, está ubicado al noreste o al sur de Estados Unidos.\n",
        "* La cantidad de hogares pobres para el año 2000 que se define mediante el ingreso. Entonces, esta característica va a dictar que habían muchos hogares pobres si al menos el 47% de los hogares tenían ingresos menores a 30.000 dólares anuales, en cambio, si más del 53% de los hogares tenían un ingreso anual superior a 30.000 dólares no eran considerados hogares pobres.\n",
        "* La densidad de la población, en donde la característica ubicaba por un lado a los condados que tenían más de 61.5 personas por milla cuadrada a un lado y a los que tenían menos de eso, los clasificaba como condados rurales.\n",
        "* La última característica tenía en cuenta el resultado electoral para el año 2004, en donde si Bush vencía a Kerry en más de 16.5 puntos porcentuales se podía considerar que esos condados eran muy republicanos. <BR> \n",
        "Para finalizar, se dice que la característica más predictiva es el porcentaje de afroamericanos que hay en el condado, puesto que es la característica principal que más ayuda a diferenciar.\n"
      ]
    },
    {
      "cell_type": "markdown",
      "metadata": {
        "id": "XdVVxJvTymo1"
      },
      "source": [
        "## 1.4 ¿Cuál es la predicción de clase para el siguiente condado con los siguientes datos: 15% de afroamericanos, 90% de tasa de graduación en la escuela secundaria, ubicado en el Sur, alta pobreza, alta densidad de población?\n"
      ]
    },
    {
      "cell_type": "markdown",
      "metadata": {
        "id": "VrCCs9WRy5pM"
      },
      "source": [
        "Según las características dadas, se predice que el condado va a elegir a Obama como el presidente de Estados Unidos para el periodo 2008-2012."
      ]
    },
    {
      "cell_type": "markdown",
      "metadata": {
        "id": "a3U8yhpFyoXH"
      },
      "source": [
        "## 1.5 ¿Cuál es el chance predicha para ese mismo condado anteriormente descrito?"
      ]
    },
    {
      "cell_type": "markdown",
      "metadata": {
        "id": "DH6TO61ky6SL"
      },
      "source": [
        "Para el condado anteriormente mencionado, se dice que hay una posibilidad de 185 contra 36 de que gane Obama. En otras palabras, Obama tiene un chance de 185 votos de ganar contra 36 votos que no lo eligirían."
      ]
    },
    {
      "cell_type": "markdown",
      "metadata": {
        "id": "goh8XqyWQwHS"
      },
      "source": [
        "# SVM\n",
        "\n",
        "\n",
        "Para esta tarea consideramos un conjunto de observaciones sobre una serie de variedades de vino tinto y blanco que implican sus propiedades químicas y su clasificación por parte de los catadores. La industria del vino ha experimentado un gran crecimiento en los últimos tiempos debido al aumento del consumo social. El precio del vino depende de un concepto bastante abstracto de apreciación del vino por parte de los catadores, cuya opinión puede tener un alto grado de variabilidad. El precio del vino depende en cierta medida de este factor tan volátil. Otro factor clave en la certificación y evaluación de la calidad del vino son las pruebas fisicoquímicas, que se realizan en laboratorio y tienen en cuenta factores como la acidez, el nivel de pH, la presencia de azúcar y otras propiedades químicas. Para el mercado del vino, sería interesante que la calidad humana de la cata pudiera relacionarse con las propiedades químicas del vino para que el proceso de certificación y evaluación de la calidad estuviera más controlado.\n",
        "\n",
        "Se dispone de dos conjuntos de datos, uno de los cuales se refiere al vino tinto y cuenta con 1.599 variedades diferentes, y el otro, al vino blanco, con 4.898 variedades. Todos los vinos se producen en una zona concreta de Portugal. Se recogen datos sobre 12 propiedades diferentes de los vinos, una de las cuales es la calidad, basada en datos sensoriales, y el resto son propiedades químicas de los vinos, como la densidad, la acidez, el contenido de alcohol, etc. Todas las propiedades químicas de los vinos son variables continuas. La calidad es una variable ordinal con una clasificación posible de 1 (peor) a 10 (mejor). Cada variedad de vino es catada por tres catadores independientes y la clasificación final asignada es la mediana de la clasificación dada por los catadores.\n",
        "\n",
        "Se espera que un modelo predictivo desarrollado a partir de estos datos sirva de orientación a los viñedos en cuanto a la calidad y el precio que se espera obtener de sus productos sin depender en gran medida de la volatilidad de los catadores.\n"
      ]
    },
    {
      "cell_type": "code",
      "execution_count": 15,
      "metadata": {
        "id": "m4dAFqRiQwHd"
      },
      "outputs": [],
      "source": [
        "import pandas as pd\n",
        "import numpy as np"
      ]
    },
    {
      "cell_type": "code",
      "execution_count": 25,
      "metadata": {
        "id": "j0S8ZSeuQwHh"
      },
      "outputs": [],
      "source": [
        "data_r = pd.read_csv('https://raw.githubusercontent.com/prof-tatiana-gutierrez/DatosMD/master/Wine_data_red.csv')\n",
        "data_w = pd.read_csv('https://raw.githubusercontent.com/prof-tatiana-gutierrez/DatosMD/master/Wine_data_white.csv')"
      ]
    },
    {
      "cell_type": "code",
      "execution_count": 35,
      "metadata": {
        "colab": {
          "base_uri": "https://localhost:8080/",
          "height": 268
        },
        "id": "zL6G49RMQwHl",
        "outputId": "b58bb0b9-a817-48fd-8faf-5e53a382a31d"
      },
      "outputs": [
        {
          "output_type": "execute_result",
          "data": {
            "text/plain": [
              "      fixed acidity  volatile acidity  citric acid  residual sugar  chlorides  \\\n",
              "279             7.0              0.30         0.49             4.7      0.036   \n",
              "6077            8.2              0.35         0.33             2.4      0.076   \n",
              "956             7.5              0.32         0.26             1.8      0.042   \n",
              "1264            7.2              0.14         0.35             1.2      0.036   \n",
              "1093            8.4              0.17         0.31             6.7      0.038   \n",
              "\n",
              "      free sulfur dioxide  total sulfur dioxide  density    pH  sulphates  \\\n",
              "279                  17.0                 105.0  0.99160  3.26       0.68   \n",
              "6077                 11.0                  47.0  0.99599  3.27       0.81   \n",
              "956                  13.0                 133.0  0.99380  3.07       0.38   \n",
              "1264                 15.0                  73.0  0.99380  3.46       0.39   \n",
              "1093                 29.0                 132.0  0.99450  3.10       0.32   \n",
              "\n",
              "      alcohol  quality   type  \n",
              "279      12.4        7  white  \n",
              "6077     11.0        6    red  \n",
              "956       9.5        5  white  \n",
              "1264      9.9        5  white  \n",
              "1093     10.6        7  white  "
            ],
            "text/html": [
              "\n",
              "  <div id=\"df-ccde1981-0ecc-4184-ae66-71d2b496eee7\">\n",
              "    <div class=\"colab-df-container\">\n",
              "      <div>\n",
              "<style scoped>\n",
              "    .dataframe tbody tr th:only-of-type {\n",
              "        vertical-align: middle;\n",
              "    }\n",
              "\n",
              "    .dataframe tbody tr th {\n",
              "        vertical-align: top;\n",
              "    }\n",
              "\n",
              "    .dataframe thead th {\n",
              "        text-align: right;\n",
              "    }\n",
              "</style>\n",
              "<table border=\"1\" class=\"dataframe\">\n",
              "  <thead>\n",
              "    <tr style=\"text-align: right;\">\n",
              "      <th></th>\n",
              "      <th>fixed acidity</th>\n",
              "      <th>volatile acidity</th>\n",
              "      <th>citric acid</th>\n",
              "      <th>residual sugar</th>\n",
              "      <th>chlorides</th>\n",
              "      <th>free sulfur dioxide</th>\n",
              "      <th>total sulfur dioxide</th>\n",
              "      <th>density</th>\n",
              "      <th>pH</th>\n",
              "      <th>sulphates</th>\n",
              "      <th>alcohol</th>\n",
              "      <th>quality</th>\n",
              "      <th>type</th>\n",
              "    </tr>\n",
              "  </thead>\n",
              "  <tbody>\n",
              "    <tr>\n",
              "      <th>279</th>\n",
              "      <td>7.0</td>\n",
              "      <td>0.30</td>\n",
              "      <td>0.49</td>\n",
              "      <td>4.7</td>\n",
              "      <td>0.036</td>\n",
              "      <td>17.0</td>\n",
              "      <td>105.0</td>\n",
              "      <td>0.99160</td>\n",
              "      <td>3.26</td>\n",
              "      <td>0.68</td>\n",
              "      <td>12.4</td>\n",
              "      <td>7</td>\n",
              "      <td>white</td>\n",
              "    </tr>\n",
              "    <tr>\n",
              "      <th>6077</th>\n",
              "      <td>8.2</td>\n",
              "      <td>0.35</td>\n",
              "      <td>0.33</td>\n",
              "      <td>2.4</td>\n",
              "      <td>0.076</td>\n",
              "      <td>11.0</td>\n",
              "      <td>47.0</td>\n",
              "      <td>0.99599</td>\n",
              "      <td>3.27</td>\n",
              "      <td>0.81</td>\n",
              "      <td>11.0</td>\n",
              "      <td>6</td>\n",
              "      <td>red</td>\n",
              "    </tr>\n",
              "    <tr>\n",
              "      <th>956</th>\n",
              "      <td>7.5</td>\n",
              "      <td>0.32</td>\n",
              "      <td>0.26</td>\n",
              "      <td>1.8</td>\n",
              "      <td>0.042</td>\n",
              "      <td>13.0</td>\n",
              "      <td>133.0</td>\n",
              "      <td>0.99380</td>\n",
              "      <td>3.07</td>\n",
              "      <td>0.38</td>\n",
              "      <td>9.5</td>\n",
              "      <td>5</td>\n",
              "      <td>white</td>\n",
              "    </tr>\n",
              "    <tr>\n",
              "      <th>1264</th>\n",
              "      <td>7.2</td>\n",
              "      <td>0.14</td>\n",
              "      <td>0.35</td>\n",
              "      <td>1.2</td>\n",
              "      <td>0.036</td>\n",
              "      <td>15.0</td>\n",
              "      <td>73.0</td>\n",
              "      <td>0.99380</td>\n",
              "      <td>3.46</td>\n",
              "      <td>0.39</td>\n",
              "      <td>9.9</td>\n",
              "      <td>5</td>\n",
              "      <td>white</td>\n",
              "    </tr>\n",
              "    <tr>\n",
              "      <th>1093</th>\n",
              "      <td>8.4</td>\n",
              "      <td>0.17</td>\n",
              "      <td>0.31</td>\n",
              "      <td>6.7</td>\n",
              "      <td>0.038</td>\n",
              "      <td>29.0</td>\n",
              "      <td>132.0</td>\n",
              "      <td>0.99450</td>\n",
              "      <td>3.10</td>\n",
              "      <td>0.32</td>\n",
              "      <td>10.6</td>\n",
              "      <td>7</td>\n",
              "      <td>white</td>\n",
              "    </tr>\n",
              "  </tbody>\n",
              "</table>\n",
              "</div>\n",
              "      <button class=\"colab-df-convert\" onclick=\"convertToInteractive('df-ccde1981-0ecc-4184-ae66-71d2b496eee7')\"\n",
              "              title=\"Convert this dataframe to an interactive table.\"\n",
              "              style=\"display:none;\">\n",
              "        \n",
              "  <svg xmlns=\"http://www.w3.org/2000/svg\" height=\"24px\"viewBox=\"0 0 24 24\"\n",
              "       width=\"24px\">\n",
              "    <path d=\"M0 0h24v24H0V0z\" fill=\"none\"/>\n",
              "    <path d=\"M18.56 5.44l.94 2.06.94-2.06 2.06-.94-2.06-.94-.94-2.06-.94 2.06-2.06.94zm-11 1L8.5 8.5l.94-2.06 2.06-.94-2.06-.94L8.5 2.5l-.94 2.06-2.06.94zm10 10l.94 2.06.94-2.06 2.06-.94-2.06-.94-.94-2.06-.94 2.06-2.06.94z\"/><path d=\"M17.41 7.96l-1.37-1.37c-.4-.4-.92-.59-1.43-.59-.52 0-1.04.2-1.43.59L10.3 9.45l-7.72 7.72c-.78.78-.78 2.05 0 2.83L4 21.41c.39.39.9.59 1.41.59.51 0 1.02-.2 1.41-.59l7.78-7.78 2.81-2.81c.8-.78.8-2.07 0-2.86zM5.41 20L4 18.59l7.72-7.72 1.47 1.35L5.41 20z\"/>\n",
              "  </svg>\n",
              "      </button>\n",
              "      \n",
              "  <style>\n",
              "    .colab-df-container {\n",
              "      display:flex;\n",
              "      flex-wrap:wrap;\n",
              "      gap: 12px;\n",
              "    }\n",
              "\n",
              "    .colab-df-convert {\n",
              "      background-color: #E8F0FE;\n",
              "      border: none;\n",
              "      border-radius: 50%;\n",
              "      cursor: pointer;\n",
              "      display: none;\n",
              "      fill: #1967D2;\n",
              "      height: 32px;\n",
              "      padding: 0 0 0 0;\n",
              "      width: 32px;\n",
              "    }\n",
              "\n",
              "    .colab-df-convert:hover {\n",
              "      background-color: #E2EBFA;\n",
              "      box-shadow: 0px 1px 2px rgba(60, 64, 67, 0.3), 0px 1px 3px 1px rgba(60, 64, 67, 0.15);\n",
              "      fill: #174EA6;\n",
              "    }\n",
              "\n",
              "    [theme=dark] .colab-df-convert {\n",
              "      background-color: #3B4455;\n",
              "      fill: #D2E3FC;\n",
              "    }\n",
              "\n",
              "    [theme=dark] .colab-df-convert:hover {\n",
              "      background-color: #434B5C;\n",
              "      box-shadow: 0px 1px 3px 1px rgba(0, 0, 0, 0.15);\n",
              "      filter: drop-shadow(0px 1px 2px rgba(0, 0, 0, 0.3));\n",
              "      fill: #FFFFFF;\n",
              "    }\n",
              "  </style>\n",
              "\n",
              "      <script>\n",
              "        const buttonEl =\n",
              "          document.querySelector('#df-ccde1981-0ecc-4184-ae66-71d2b496eee7 button.colab-df-convert');\n",
              "        buttonEl.style.display =\n",
              "          google.colab.kernel.accessAllowed ? 'block' : 'none';\n",
              "\n",
              "        async function convertToInteractive(key) {\n",
              "          const element = document.querySelector('#df-ccde1981-0ecc-4184-ae66-71d2b496eee7');\n",
              "          const dataTable =\n",
              "            await google.colab.kernel.invokeFunction('convertToInteractive',\n",
              "                                                     [key], {});\n",
              "          if (!dataTable) return;\n",
              "\n",
              "          const docLinkHtml = 'Like what you see? Visit the ' +\n",
              "            '<a target=\"_blank\" href=https://colab.research.google.com/notebooks/data_table.ipynb>data table notebook</a>'\n",
              "            + ' to learn more about interactive tables.';\n",
              "          element.innerHTML = '';\n",
              "          dataTable['output_type'] = 'display_data';\n",
              "          await google.colab.output.renderOutput(dataTable, element);\n",
              "          const docLink = document.createElement('div');\n",
              "          docLink.innerHTML = docLinkHtml;\n",
              "          element.appendChild(docLink);\n",
              "        }\n",
              "      </script>\n",
              "    </div>\n",
              "  </div>\n",
              "  "
            ]
          },
          "metadata": {},
          "execution_count": 35
        }
      ],
      "source": [
        "data = data_w.assign(type = 'white')\n",
        "\n",
        "data = data.append(data_r.assign(type = 'red'), ignore_index=True)\n",
        "data.sample(5)"
      ]
    },
    {
      "cell_type": "code",
      "execution_count": 27,
      "metadata": {
        "colab": {
          "base_uri": "https://localhost:8080/"
        },
        "id": "v4tG3aszSHwx",
        "outputId": "dae6ceae-48a2-4c34-d84c-ba5dd5de7989"
      },
      "outputs": [
        {
          "output_type": "execute_result",
          "data": {
            "text/plain": [
              "6    2836\n",
              "5    2138\n",
              "7    1079\n",
              "4     216\n",
              "8     193\n",
              "3      30\n",
              "9       5\n",
              "Name: quality, dtype: int64"
            ]
          },
          "metadata": {},
          "execution_count": 27
        }
      ],
      "source": [
        "data.quality.value_counts()"
      ]
    },
    {
      "cell_type": "code",
      "execution_count": 28,
      "metadata": {
        "colab": {
          "base_uri": "https://localhost:8080/"
        },
        "id": "Aulg4Pz5SIDO",
        "outputId": "bb707953-a8a5-4cb3-b0af-a34df8b604f1"
      },
      "outputs": [
        {
          "output_type": "execute_result",
          "data": {
            "text/plain": [
              "white    4898\n",
              "red      1599\n",
              "Name: type, dtype: int64"
            ]
          },
          "metadata": {},
          "execution_count": 28
        }
      ],
      "source": [
        "data.type.value_counts()"
      ]
    },
    {
      "cell_type": "markdown",
      "metadata": {
        "id": "ijwzlA_FQwHq"
      },
      "source": [
        "## Ejercicio 2.1\n",
        "\n",
        "Mostrar la tabla de frecuencias de la calidad por tipo de vino."
      ]
    },
    {
      "cell_type": "code",
      "execution_count": 29,
      "metadata": {
        "colab": {
          "base_uri": "https://localhost:8080/",
          "height": 143
        },
        "id": "4s07Ier6QwHs",
        "outputId": "aa1887bf-59be-4a66-bb56-c4ff36bdb267"
      },
      "outputs": [
        {
          "output_type": "execute_result",
          "data": {
            "text/plain": [
              "quality   3    4     5     6    7    8  9\n",
              "type                                     \n",
              "red      10   53   681   638  199   18  0\n",
              "white    20  163  1457  2198  880  175  5"
            ],
            "text/html": [
              "\n",
              "  <div id=\"df-fdc8d0bd-4f90-43ed-b24b-191ef1bfedac\">\n",
              "    <div class=\"colab-df-container\">\n",
              "      <div>\n",
              "<style scoped>\n",
              "    .dataframe tbody tr th:only-of-type {\n",
              "        vertical-align: middle;\n",
              "    }\n",
              "\n",
              "    .dataframe tbody tr th {\n",
              "        vertical-align: top;\n",
              "    }\n",
              "\n",
              "    .dataframe thead th {\n",
              "        text-align: right;\n",
              "    }\n",
              "</style>\n",
              "<table border=\"1\" class=\"dataframe\">\n",
              "  <thead>\n",
              "    <tr style=\"text-align: right;\">\n",
              "      <th>quality</th>\n",
              "      <th>3</th>\n",
              "      <th>4</th>\n",
              "      <th>5</th>\n",
              "      <th>6</th>\n",
              "      <th>7</th>\n",
              "      <th>8</th>\n",
              "      <th>9</th>\n",
              "    </tr>\n",
              "    <tr>\n",
              "      <th>type</th>\n",
              "      <th></th>\n",
              "      <th></th>\n",
              "      <th></th>\n",
              "      <th></th>\n",
              "      <th></th>\n",
              "      <th></th>\n",
              "      <th></th>\n",
              "    </tr>\n",
              "  </thead>\n",
              "  <tbody>\n",
              "    <tr>\n",
              "      <th>red</th>\n",
              "      <td>10</td>\n",
              "      <td>53</td>\n",
              "      <td>681</td>\n",
              "      <td>638</td>\n",
              "      <td>199</td>\n",
              "      <td>18</td>\n",
              "      <td>0</td>\n",
              "    </tr>\n",
              "    <tr>\n",
              "      <th>white</th>\n",
              "      <td>20</td>\n",
              "      <td>163</td>\n",
              "      <td>1457</td>\n",
              "      <td>2198</td>\n",
              "      <td>880</td>\n",
              "      <td>175</td>\n",
              "      <td>5</td>\n",
              "    </tr>\n",
              "  </tbody>\n",
              "</table>\n",
              "</div>\n",
              "      <button class=\"colab-df-convert\" onclick=\"convertToInteractive('df-fdc8d0bd-4f90-43ed-b24b-191ef1bfedac')\"\n",
              "              title=\"Convert this dataframe to an interactive table.\"\n",
              "              style=\"display:none;\">\n",
              "        \n",
              "  <svg xmlns=\"http://www.w3.org/2000/svg\" height=\"24px\"viewBox=\"0 0 24 24\"\n",
              "       width=\"24px\">\n",
              "    <path d=\"M0 0h24v24H0V0z\" fill=\"none\"/>\n",
              "    <path d=\"M18.56 5.44l.94 2.06.94-2.06 2.06-.94-2.06-.94-.94-2.06-.94 2.06-2.06.94zm-11 1L8.5 8.5l.94-2.06 2.06-.94-2.06-.94L8.5 2.5l-.94 2.06-2.06.94zm10 10l.94 2.06.94-2.06 2.06-.94-2.06-.94-.94-2.06-.94 2.06-2.06.94z\"/><path d=\"M17.41 7.96l-1.37-1.37c-.4-.4-.92-.59-1.43-.59-.52 0-1.04.2-1.43.59L10.3 9.45l-7.72 7.72c-.78.78-.78 2.05 0 2.83L4 21.41c.39.39.9.59 1.41.59.51 0 1.02-.2 1.41-.59l7.78-7.78 2.81-2.81c.8-.78.8-2.07 0-2.86zM5.41 20L4 18.59l7.72-7.72 1.47 1.35L5.41 20z\"/>\n",
              "  </svg>\n",
              "      </button>\n",
              "      \n",
              "  <style>\n",
              "    .colab-df-container {\n",
              "      display:flex;\n",
              "      flex-wrap:wrap;\n",
              "      gap: 12px;\n",
              "    }\n",
              "\n",
              "    .colab-df-convert {\n",
              "      background-color: #E8F0FE;\n",
              "      border: none;\n",
              "      border-radius: 50%;\n",
              "      cursor: pointer;\n",
              "      display: none;\n",
              "      fill: #1967D2;\n",
              "      height: 32px;\n",
              "      padding: 0 0 0 0;\n",
              "      width: 32px;\n",
              "    }\n",
              "\n",
              "    .colab-df-convert:hover {\n",
              "      background-color: #E2EBFA;\n",
              "      box-shadow: 0px 1px 2px rgba(60, 64, 67, 0.3), 0px 1px 3px 1px rgba(60, 64, 67, 0.15);\n",
              "      fill: #174EA6;\n",
              "    }\n",
              "\n",
              "    [theme=dark] .colab-df-convert {\n",
              "      background-color: #3B4455;\n",
              "      fill: #D2E3FC;\n",
              "    }\n",
              "\n",
              "    [theme=dark] .colab-df-convert:hover {\n",
              "      background-color: #434B5C;\n",
              "      box-shadow: 0px 1px 3px 1px rgba(0, 0, 0, 0.15);\n",
              "      filter: drop-shadow(0px 1px 2px rgba(0, 0, 0, 0.3));\n",
              "      fill: #FFFFFF;\n",
              "    }\n",
              "  </style>\n",
              "\n",
              "      <script>\n",
              "        const buttonEl =\n",
              "          document.querySelector('#df-fdc8d0bd-4f90-43ed-b24b-191ef1bfedac button.colab-df-convert');\n",
              "        buttonEl.style.display =\n",
              "          google.colab.kernel.accessAllowed ? 'block' : 'none';\n",
              "\n",
              "        async function convertToInteractive(key) {\n",
              "          const element = document.querySelector('#df-fdc8d0bd-4f90-43ed-b24b-191ef1bfedac');\n",
              "          const dataTable =\n",
              "            await google.colab.kernel.invokeFunction('convertToInteractive',\n",
              "                                                     [key], {});\n",
              "          if (!dataTable) return;\n",
              "\n",
              "          const docLinkHtml = 'Like what you see? Visit the ' +\n",
              "            '<a target=\"_blank\" href=https://colab.research.google.com/notebooks/data_table.ipynb>data table notebook</a>'\n",
              "            + ' to learn more about interactive tables.';\n",
              "          element.innerHTML = '';\n",
              "          dataTable['output_type'] = 'display_data';\n",
              "          await google.colab.output.renderOutput(dataTable, element);\n",
              "          const docLink = document.createElement('div');\n",
              "          docLink.innerHTML = docLinkHtml;\n",
              "          element.appendChild(docLink);\n",
              "        }\n",
              "      </script>\n",
              "    </div>\n",
              "  </div>\n",
              "  "
            ]
          },
          "metadata": {},
          "execution_count": 29
        }
      ],
      "source": [
        "tab=pd.crosstab(data[\"type\"],data[\"quality\"])\n",
        "tab"
      ]
    },
    {
      "cell_type": "markdown",
      "metadata": {
        "id": "CTXD9yj7WuC4"
      },
      "source": [
        "De acuerdo a la anterior tabla de contingencia se puede decir que:\n",
        "* Para el vino tinto, 10 catadores dieron una calificación de 3 para la calidad del vino que tomaron, 53 una calificación de 4, 681 una calificación de 5, 638 una calificación de 6, 199 una calificación de 7 y 18 una calificación de 8 a la calidad de la variedad de vino tinto que probaron; para un total de 1599.\n",
        "* Para el vino blanco, 20 catadores dieron una calificación de 3 para la calidad del vino que tomaron, 163 una calificación de 4, 1457 una calificación de 5, 2198 una calificación de 6, 880 una calificación de 7, 175 una calificación de 8 y 5 una calificación de 9 a la calidad de la variedad de vino blanco que probaron; para un total de 4898."
      ]
    },
    {
      "cell_type": "markdown",
      "metadata": {
        "id": "0kggmI76QwHv"
      },
      "source": [
        "## Ejercicio 2.2\n",
        "\n",
        "Teniendo en cuenta todas las variables:\n",
        "\n",
        "* Crear un objetivo binario para cada tipo de vino, haciendo la transformación necesaria para ingresar la información al modelo.\n",
        "* Crear una SVM que prediga el tipo de vino\n",
        "* Evalúe con F1, AUC-ROC y log-loss\n"
      ]
    },
    {
      "cell_type": "markdown",
      "metadata": {
        "id": "DEIDdx3racsi"
      },
      "source": [
        "### Creación de varible binaria para el tipo de vino:\n",
        "Se le va a asignar 1 al vino tinto y 0 al vino blanco"
      ]
    },
    {
      "cell_type": "code",
      "execution_count": 36,
      "metadata": {
        "id": "KMwvzDUwagwO"
      },
      "outputs": [],
      "source": [
        "data['B_type'] =data['type']\n",
        "data.loc[data.type == 'red','B_type'] = '1'\n",
        "data.loc[data.type == 'white','B_type'] = '0'\n",
        "data['B_type'] = data['B_type'].astype(int)"
      ]
    },
    {
      "cell_type": "code",
      "source": [
        "data.B_type.value_counts()"
      ],
      "metadata": {
        "colab": {
          "base_uri": "https://localhost:8080/"
        },
        "id": "LNGy0K5tkX8w",
        "outputId": "474f83da-41ea-4c7a-a550-54bcdbe23abf"
      },
      "execution_count": 31,
      "outputs": [
        {
          "output_type": "execute_result",
          "data": {
            "text/plain": [
              "0    4898\n",
              "1    1599\n",
              "Name: B_type, dtype: int64"
            ]
          },
          "metadata": {},
          "execution_count": 31
        }
      ]
    },
    {
      "cell_type": "markdown",
      "source": [
        "### Ajuste del modelo:"
      ],
      "metadata": {
        "id": "xEcF4agQU5M-"
      }
    },
    {
      "cell_type": "code",
      "execution_count": 37,
      "metadata": {
        "id": "QZlYLQAkbQsT"
      },
      "outputs": [],
      "source": [
        "import numpy as np\n",
        "import matplotlib.pyplot as plt\n",
        "from scipy import stats\n",
        "import seaborn as sns\n",
        "from sklearn.svm import SVC\n",
        "from sklearn.datasets import make_blobs\n",
        "from sklearn import preprocessing, metrics, model_selection\n",
        "import pandas as pd\n",
        "from sklearn.metrics import roc_auc_score, accuracy_score, make_scorer, roc_curve, auc\n",
        "from sklearn.preprocessing import label_binarize\n",
        "from sklearn.model_selection import train_test_split\n",
        "from sklearn.model_selection import GridSearchCV\n",
        "import warnings\n",
        "warnings.filterwarnings('ignore')\n",
        "\n",
        "data.drop(['type'], 1, inplace=True)\n",
        "X = np.array(data.drop(['B_type'], 1))\n",
        "y = np.array(data['B_type'])\n",
        "X_train, X_test, y_train, y_test = model_selection.train_test_split(X, y, test_size=0.3)"
      ]
    },
    {
      "cell_type": "code",
      "source": [
        "from sklearn.svm import SVC\n",
        "clf1 = SVC(kernel='linear', C=1E6, probability= True)\n",
        "clf1.fit(X_train, y_train)"
      ],
      "metadata": {
        "colab": {
          "base_uri": "https://localhost:8080/"
        },
        "id": "A_bZZgRGgGTy",
        "outputId": "34fe90f6-6e33-414c-ec51-803240936e5d"
      },
      "execution_count": 55,
      "outputs": [
        {
          "output_type": "execute_result",
          "data": {
            "text/plain": [
              "SVC(C=1000000.0, kernel='linear', probability=True)"
            ]
          },
          "metadata": {},
          "execution_count": 55
        }
      ]
    },
    {
      "cell_type": "markdown",
      "source": [
        "### Evaluación del modelo:"
      ],
      "metadata": {
        "id": "5RYRE6P-U9eK"
      }
    },
    {
      "cell_type": "code",
      "source": [
        "pred1 = clf1.predict(X_test)\n",
        "pred11 = clf1.predict_proba(X_test)\n",
        "print('F1 score:', metrics.f1_score(y_test, pred1))\n",
        "print('Log Loss:', metrics.log_loss(y_test, pred11))\n",
        "print('ROC AUC score:', metrics.roc_auc_score(y_test, pred1, average=None))"
      ],
      "metadata": {
        "colab": {
          "base_uri": "https://localhost:8080/"
        },
        "id": "YoLj0GWGVIi3",
        "outputId": "367d346d-2a1d-41f8-8702-2670c434f2e1"
      },
      "execution_count": 56,
      "outputs": [
        {
          "output_type": "stream",
          "name": "stdout",
          "text": [
            "F1 score: 0.9678800856531048\n",
            "Log Loss: 0.04415006818444153\n",
            "ROC AUC score: 0.975430609389693\n"
          ]
        }
      ]
    },
    {
      "cell_type": "markdown",
      "metadata": {
        "id": "auNsSHtsQwH1"
      },
      "source": [
        "## Ejercicio 2.3\n",
        "\n",
        "* Probar la SVM utilizando los diferentes kernels ('poly', 'rbf', 'sigmoid')\n",
        "* Evalúe con F1, AUC-ROC y log-loss\n"
      ]
    },
    {
      "cell_type": "markdown",
      "metadata": {
        "id": "ffxVn6vrtujy"
      },
      "source": [
        "### SVM con kernel = poly"
      ]
    },
    {
      "cell_type": "code",
      "execution_count": 57,
      "metadata": {
        "id": "pEynbsimtyxa",
        "colab": {
          "base_uri": "https://localhost:8080/"
        },
        "outputId": "a2cd72e8-e037-47ac-82fc-39022bc1af50"
      },
      "outputs": [
        {
          "output_type": "stream",
          "name": "stdout",
          "text": [
            "F1 score: 0.8356309650053022\n",
            "Log Loss: 0.234511774498065\n",
            "ROC AUC score: 0.8913241668769064\n"
          ]
        }
      ],
      "source": [
        "from sklearn import svm\n",
        "\n",
        "clf2 = svm.SVC(kernel='poly',probability=True)\n",
        "clf2.fit(X_train, y_train)\n",
        "\n",
        "pred2 = clf2.predict(X_test)\n",
        "pred22 = clf2.predict_proba(X_test)\n",
        "\n",
        "print('F1 score:', metrics.f1_score(y_test, pred2))\n",
        "print('Log Loss:', metrics.log_loss(y_test, pred22))\n",
        "print('ROC AUC score:', metrics.roc_auc_score(y_test, pred2, average=None))"
      ]
    },
    {
      "cell_type": "markdown",
      "metadata": {
        "id": "PguBPuJZuN0t"
      },
      "source": [
        "### SVM con kernel = rbf"
      ]
    },
    {
      "cell_type": "code",
      "execution_count": 58,
      "metadata": {
        "id": "2zw30f-puRFr",
        "colab": {
          "base_uri": "https://localhost:8080/"
        },
        "outputId": "2d1f589a-0cd8-4c85-c768-a6506cd7a382"
      },
      "outputs": [
        {
          "output_type": "stream",
          "name": "stdout",
          "text": [
            "F1 score: 0.8664343786295006\n",
            "Log Loss: 0.20013513147099257\n",
            "ROC AUC score: 0.8897143987523223\n"
          ]
        }
      ],
      "source": [
        "clf3 = svm.SVC(kernel='rbf',probability=True)\n",
        "clf3.fit(X_train, y_train)\n",
        "\n",
        "pred3 = clf3.predict(X_test)\n",
        "pred33 = clf3.predict_proba(X_test)\n",
        "\n",
        "print('F1 score:', metrics.f1_score(y_test, pred3))\n",
        "print('Log Loss:', metrics.log_loss(y_test, pred33))\n",
        "print('ROC AUC score:', metrics.roc_auc_score(y_test, pred3, average=None))"
      ]
    },
    {
      "cell_type": "markdown",
      "metadata": {
        "id": "bM0463YKuVc1"
      },
      "source": [
        "### SVM con kernel = sigmoid"
      ]
    },
    {
      "cell_type": "code",
      "execution_count": 59,
      "metadata": {
        "id": "D7KGGriPuYdZ",
        "colab": {
          "base_uri": "https://localhost:8080/"
        },
        "outputId": "fc97f8bf-f631-4a1e-e111-993804f0c0f7"
      },
      "outputs": [
        {
          "output_type": "stream",
          "name": "stdout",
          "text": [
            "F1 score: 0.49946178686759957\n",
            "Log Loss: 0.485780357271307\n",
            "ROC AUC score: 0.6696463383867343\n"
          ]
        }
      ],
      "source": [
        "clf4 = svm.SVC(kernel='sigmoid',probability=True)\n",
        "clf4.fit(X_train, y_train)\n",
        "\n",
        "pred4 = clf4.predict(X_test)\n",
        "pred44 = clf4.predict_proba(X_test)\n",
        "\n",
        "print('F1 score:', metrics.f1_score(y_test, pred4))\n",
        "print('Log Loss:', metrics.log_loss(y_test, pred44))\n",
        "print('ROC AUC score:', metrics.roc_auc_score(y_test, pred4, average=None))"
      ]
    },
    {
      "cell_type": "markdown",
      "metadata": {
        "id": "5cwmoGc8ugP6"
      },
      "source": [
        "### Resumen de evaluaciones:"
      ]
    },
    {
      "cell_type": "code",
      "execution_count": 62,
      "metadata": {
        "id": "ZX_9h4W0unKg",
        "colab": {
          "base_uri": "https://localhost:8080/",
          "height": 175
        },
        "outputId": "02970cbe-2db2-49c6-d8bf-80cd2674a6a2"
      },
      "outputs": [
        {
          "output_type": "execute_result",
          "data": {
            "text/plain": [
              "                  Modelo        F1  Log loss   ROC AUC\n",
              "0             Modelo SVC  0.967880  0.044150  0.975431\n",
              "1     Modelo kernel poly  0.835631  0.234512  0.891324\n",
              "2      Modelo kernel rbf  0.866434  0.200135  0.889714\n",
              "3  Modelo kernel sigmoid  0.499462  0.485780  0.669646"
            ],
            "text/html": [
              "\n",
              "  <div id=\"df-2e33ffe5-f98f-466b-928a-2855ba0d31e7\">\n",
              "    <div class=\"colab-df-container\">\n",
              "      <div>\n",
              "<style scoped>\n",
              "    .dataframe tbody tr th:only-of-type {\n",
              "        vertical-align: middle;\n",
              "    }\n",
              "\n",
              "    .dataframe tbody tr th {\n",
              "        vertical-align: top;\n",
              "    }\n",
              "\n",
              "    .dataframe thead th {\n",
              "        text-align: right;\n",
              "    }\n",
              "</style>\n",
              "<table border=\"1\" class=\"dataframe\">\n",
              "  <thead>\n",
              "    <tr style=\"text-align: right;\">\n",
              "      <th></th>\n",
              "      <th>Modelo</th>\n",
              "      <th>F1</th>\n",
              "      <th>Log loss</th>\n",
              "      <th>ROC AUC</th>\n",
              "    </tr>\n",
              "  </thead>\n",
              "  <tbody>\n",
              "    <tr>\n",
              "      <th>0</th>\n",
              "      <td>Modelo SVC</td>\n",
              "      <td>0.967880</td>\n",
              "      <td>0.044150</td>\n",
              "      <td>0.975431</td>\n",
              "    </tr>\n",
              "    <tr>\n",
              "      <th>1</th>\n",
              "      <td>Modelo kernel poly</td>\n",
              "      <td>0.835631</td>\n",
              "      <td>0.234512</td>\n",
              "      <td>0.891324</td>\n",
              "    </tr>\n",
              "    <tr>\n",
              "      <th>2</th>\n",
              "      <td>Modelo kernel rbf</td>\n",
              "      <td>0.866434</td>\n",
              "      <td>0.200135</td>\n",
              "      <td>0.889714</td>\n",
              "    </tr>\n",
              "    <tr>\n",
              "      <th>3</th>\n",
              "      <td>Modelo kernel sigmoid</td>\n",
              "      <td>0.499462</td>\n",
              "      <td>0.485780</td>\n",
              "      <td>0.669646</td>\n",
              "    </tr>\n",
              "  </tbody>\n",
              "</table>\n",
              "</div>\n",
              "      <button class=\"colab-df-convert\" onclick=\"convertToInteractive('df-2e33ffe5-f98f-466b-928a-2855ba0d31e7')\"\n",
              "              title=\"Convert this dataframe to an interactive table.\"\n",
              "              style=\"display:none;\">\n",
              "        \n",
              "  <svg xmlns=\"http://www.w3.org/2000/svg\" height=\"24px\"viewBox=\"0 0 24 24\"\n",
              "       width=\"24px\">\n",
              "    <path d=\"M0 0h24v24H0V0z\" fill=\"none\"/>\n",
              "    <path d=\"M18.56 5.44l.94 2.06.94-2.06 2.06-.94-2.06-.94-.94-2.06-.94 2.06-2.06.94zm-11 1L8.5 8.5l.94-2.06 2.06-.94-2.06-.94L8.5 2.5l-.94 2.06-2.06.94zm10 10l.94 2.06.94-2.06 2.06-.94-2.06-.94-.94-2.06-.94 2.06-2.06.94z\"/><path d=\"M17.41 7.96l-1.37-1.37c-.4-.4-.92-.59-1.43-.59-.52 0-1.04.2-1.43.59L10.3 9.45l-7.72 7.72c-.78.78-.78 2.05 0 2.83L4 21.41c.39.39.9.59 1.41.59.51 0 1.02-.2 1.41-.59l7.78-7.78 2.81-2.81c.8-.78.8-2.07 0-2.86zM5.41 20L4 18.59l7.72-7.72 1.47 1.35L5.41 20z\"/>\n",
              "  </svg>\n",
              "      </button>\n",
              "      \n",
              "  <style>\n",
              "    .colab-df-container {\n",
              "      display:flex;\n",
              "      flex-wrap:wrap;\n",
              "      gap: 12px;\n",
              "    }\n",
              "\n",
              "    .colab-df-convert {\n",
              "      background-color: #E8F0FE;\n",
              "      border: none;\n",
              "      border-radius: 50%;\n",
              "      cursor: pointer;\n",
              "      display: none;\n",
              "      fill: #1967D2;\n",
              "      height: 32px;\n",
              "      padding: 0 0 0 0;\n",
              "      width: 32px;\n",
              "    }\n",
              "\n",
              "    .colab-df-convert:hover {\n",
              "      background-color: #E2EBFA;\n",
              "      box-shadow: 0px 1px 2px rgba(60, 64, 67, 0.3), 0px 1px 3px 1px rgba(60, 64, 67, 0.15);\n",
              "      fill: #174EA6;\n",
              "    }\n",
              "\n",
              "    [theme=dark] .colab-df-convert {\n",
              "      background-color: #3B4455;\n",
              "      fill: #D2E3FC;\n",
              "    }\n",
              "\n",
              "    [theme=dark] .colab-df-convert:hover {\n",
              "      background-color: #434B5C;\n",
              "      box-shadow: 0px 1px 3px 1px rgba(0, 0, 0, 0.15);\n",
              "      filter: drop-shadow(0px 1px 2px rgba(0, 0, 0, 0.3));\n",
              "      fill: #FFFFFF;\n",
              "    }\n",
              "  </style>\n",
              "\n",
              "      <script>\n",
              "        const buttonEl =\n",
              "          document.querySelector('#df-2e33ffe5-f98f-466b-928a-2855ba0d31e7 button.colab-df-convert');\n",
              "        buttonEl.style.display =\n",
              "          google.colab.kernel.accessAllowed ? 'block' : 'none';\n",
              "\n",
              "        async function convertToInteractive(key) {\n",
              "          const element = document.querySelector('#df-2e33ffe5-f98f-466b-928a-2855ba0d31e7');\n",
              "          const dataTable =\n",
              "            await google.colab.kernel.invokeFunction('convertToInteractive',\n",
              "                                                     [key], {});\n",
              "          if (!dataTable) return;\n",
              "\n",
              "          const docLinkHtml = 'Like what you see? Visit the ' +\n",
              "            '<a target=\"_blank\" href=https://colab.research.google.com/notebooks/data_table.ipynb>data table notebook</a>'\n",
              "            + ' to learn more about interactive tables.';\n",
              "          element.innerHTML = '';\n",
              "          dataTable['output_type'] = 'display_data';\n",
              "          await google.colab.output.renderOutput(dataTable, element);\n",
              "          const docLink = document.createElement('div');\n",
              "          docLink.innerHTML = docLinkHtml;\n",
              "          element.appendChild(docLink);\n",
              "        }\n",
              "      </script>\n",
              "    </div>\n",
              "  </div>\n",
              "  "
            ]
          },
          "metadata": {},
          "execution_count": 62
        }
      ],
      "source": [
        "result = pd.DataFrame({'Modelo':['Modelo SVC','Modelo kernel poly','Modelo kernel rbf','Modelo kernel sigmoid']})\n",
        "result['F1']=(metrics.f1_score(y_test, pred1),metrics.f1_score(y_test, pred2),metrics.f1_score(y_test, pred3),metrics.f1_score(y_test, pred4))\n",
        "result['Log loss']=(metrics.log_loss(y_test, pred11),metrics.log_loss(y_test, pred22),metrics.log_loss(y_test, pred33),metrics.log_loss(y_test, pred44))\n",
        "result['ROC AUC']=(metrics.roc_auc_score(y_test, pred1, average=None),metrics.roc_auc_score(y_test, pred2, average=None),metrics.roc_auc_score(y_test, pred3, average=None),metrics.roc_auc_score(y_test, pred4, average=None))\n",
        "result"
      ]
    },
    {
      "cell_type": "markdown",
      "metadata": {
        "id": "DHBmMhtYQwH6"
      },
      "source": [
        "## Ejercicio 2.4\n",
        "* Utilizando el mejor SVM del punto anterior encontrar los parámetros que da el mejor rendimiento teniendo en cuenta los siguientes hiperparámetros\n",
        "'C': [0.1, 1, 10, 100, 1000], 'gamma': [0.01, 0.001, 0.0001]\n",
        "* Evalúe cada modelo con F1, AUC-ROC y log-loss\n",
        "\n",
        "Nota: Para los valores de C y gamma, deben realizar todas las posibles combinaciones entre estas dos variables."
      ]
    },
    {
      "cell_type": "markdown",
      "source": [
        "### Modelo SVC:"
      ],
      "metadata": {
        "id": "-s6ZnkFXgrIr"
      }
    },
    {
      "cell_type": "code",
      "source": [
        "from sklearn import svm\n",
        "\n",
        "clf5 = svm.SVC()\n",
        "\n",
        "parameters = {'gamma': [0.01, 0.001, 0.0001], 'C': [0.1, 1, 10, 100, 1000]}\n",
        "acc_scorer = make_scorer(roc_auc_score)\n",
        "\n",
        "grid_obj = GridSearchCV(clf5, parameters, scoring=acc_scorer)\n",
        "grid_obj = grid_obj.fit(X_train, y_train)\n",
        "\n",
        "clf5_b = grid_obj.best_estimator_\n",
        "\n",
        "clf5_b.fit(X_train, y_train)\n",
        "\n",
        "pred5 = clf5_b.predict(X_test)\n"
      ],
      "metadata": {
        "id": "Hdg8ERz8CYnn"
      },
      "execution_count": 66,
      "outputs": []
    },
    {
      "cell_type": "code",
      "source": [
        "print('F1 score:', metrics.f1_score(y_test, pred5))\n",
        "print('Log Loss:', metrics.log_loss(y_test, pred5))\n",
        "print('ROC AUC score:', metrics.roc_auc_score(y_test, pred5, average=None))"
      ],
      "metadata": {
        "colab": {
          "base_uri": "https://localhost:8080/"
        },
        "id": "yYRf9b5-bnZA",
        "outputId": "93268455-3f51-479c-c60e-44f78f65f0cc"
      },
      "execution_count": 67,
      "outputs": [
        {
          "output_type": "stream",
          "name": "stdout",
          "text": [
            "F1 score: 0.9766454352441613\n",
            "Log Loss: 0.3896723470063276\n",
            "ROC AUC score: 0.9839051856608794\n"
          ]
        }
      ]
    },
    {
      "cell_type": "markdown",
      "source": [
        "### Modelo kernel rbf:"
      ],
      "metadata": {
        "id": "GVzAh_BNgyuq"
      }
    },
    {
      "cell_type": "code",
      "source": [
        "clf6 = svm.SVC(kernel='rbf',probability=True)\n",
        "\n",
        "parameters = {'gamma': [0.01, 0.001, 0.0001], 'C': [0.1, 1, 10, 100, 1000]}\n",
        "acc_scorer = make_scorer(roc_auc_score)\n",
        "\n",
        "grid_obj = GridSearchCV(clf6, parameters, scoring=acc_scorer)\n",
        "grid_obj = grid_obj.fit(X_train, y_train)\n",
        "\n",
        "clf6_b = grid_obj.best_estimator_\n",
        "\n",
        "clf6_b.fit(X_train, y_train)\n",
        "\n",
        "pred6 = clf6_b.predict(X_test)\n",
        "pred66 = clf6_b.predict_proba(X_test)"
      ],
      "metadata": {
        "id": "_0h4fQ5ug-rC"
      },
      "execution_count": 49,
      "outputs": []
    },
    {
      "cell_type": "code",
      "source": [
        "print('F1 score:', metrics.f1_score(y_test, pred6))\n",
        "print('Log Loss:', metrics.log_loss(y_test, pred66))\n",
        "print('ROC AUC score:', metrics.roc_auc_score(y_test, pred6, average=None))"
      ],
      "metadata": {
        "colab": {
          "base_uri": "https://localhost:8080/"
        },
        "id": "2Upjmf2jiWY2",
        "outputId": "bbbf7c1a-4072-435f-fe98-aef263c95067"
      },
      "execution_count": 50,
      "outputs": [
        {
          "output_type": "stream",
          "name": "stdout",
          "text": [
            "F1 score: 0.9766454352441613\n",
            "Log Loss: 0.3896723470063276\n",
            "ROC AUC score: 0.9839051856608794\n"
          ]
        }
      ]
    },
    {
      "cell_type": "markdown",
      "metadata": {
        "id": "XjgVQ_WTQwH9"
      },
      "source": [
        "## Ejercicio 2.5\n",
        "\n",
        "Compare los resultados con todos los anteriores modelos y eliga ¿Cuál algoritmo con cuáles hiperparámetros es el que tiene mejor rendimiento según la puntuación F1, AUC-ROC y log-loss?"
      ]
    },
    {
      "cell_type": "code",
      "source": [
        "result_final = pd.DataFrame({'Modelo':['Modelo SVC','Modelo kernel poly','Modelo kernel rbf','Modelo kernel sigmoid','Modelo SVC grilla','Modelo kernel rbf grilla']})\n",
        "result_final['F1']=(metrics.f1_score(y_test, pred1),metrics.f1_score(y_test, pred2),metrics.f1_score(y_test, pred3),metrics.f1_score(y_test, pred4),metrics.f1_score(y_test, pred5),metrics.f1_score(y_test, pred6))\n",
        "result_final['Log loss']=(metrics.log_loss(y_test, pred1),metrics.log_loss(y_test, pred2),metrics.log_loss(y_test, pred3),metrics.log_loss(y_test, pred4),metrics.log_loss(y_test, pred5),metrics.log_loss(y_test, pred5))\n",
        "result_final['ROC AUC']=(metrics.roc_auc_score(y_test, pred1, average=None),metrics.roc_auc_score(y_test, pred2, average=None),metrics.roc_auc_score(y_test, pred3, average=None),metrics.roc_auc_score(y_test, pred4, average=None),metrics.roc_auc_score(y_test, pred5, average=None),metrics.roc_auc_score(y_test, pred6, average=None))\n",
        "result_final"
      ],
      "metadata": {
        "colab": {
          "base_uri": "https://localhost:8080/",
          "height": 238
        },
        "id": "ushWqeRTirQe",
        "outputId": "5d28fcd8-b121-4e87-b6b7-e4cdeff1fc57"
      },
      "execution_count": 53,
      "outputs": [
        {
          "output_type": "execute_result",
          "data": {
            "text/plain": [
              "                     Modelo        F1  Log loss   ROC AUC\n",
              "0                Modelo SVC  0.967880  0.531370  0.975431\n",
              "1        Modelo kernel poly  0.835631  2.745421  0.891324\n",
              "2         Modelo kernel rbf  0.866434  2.036909  0.889714\n",
              "3     Modelo kernel sigmoid  0.499462  8.236262  0.669646\n",
              "4         Modelo SVC grilla  0.976645  0.389672  0.983905\n",
              "5  Modelo kernel rbf grilla  0.976645  0.389672  0.983905"
            ],
            "text/html": [
              "\n",
              "  <div id=\"df-f62c4b7e-968d-4ace-8395-858ef21e6316\">\n",
              "    <div class=\"colab-df-container\">\n",
              "      <div>\n",
              "<style scoped>\n",
              "    .dataframe tbody tr th:only-of-type {\n",
              "        vertical-align: middle;\n",
              "    }\n",
              "\n",
              "    .dataframe tbody tr th {\n",
              "        vertical-align: top;\n",
              "    }\n",
              "\n",
              "    .dataframe thead th {\n",
              "        text-align: right;\n",
              "    }\n",
              "</style>\n",
              "<table border=\"1\" class=\"dataframe\">\n",
              "  <thead>\n",
              "    <tr style=\"text-align: right;\">\n",
              "      <th></th>\n",
              "      <th>Modelo</th>\n",
              "      <th>F1</th>\n",
              "      <th>Log loss</th>\n",
              "      <th>ROC AUC</th>\n",
              "    </tr>\n",
              "  </thead>\n",
              "  <tbody>\n",
              "    <tr>\n",
              "      <th>0</th>\n",
              "      <td>Modelo SVC</td>\n",
              "      <td>0.967880</td>\n",
              "      <td>0.531370</td>\n",
              "      <td>0.975431</td>\n",
              "    </tr>\n",
              "    <tr>\n",
              "      <th>1</th>\n",
              "      <td>Modelo kernel poly</td>\n",
              "      <td>0.835631</td>\n",
              "      <td>2.745421</td>\n",
              "      <td>0.891324</td>\n",
              "    </tr>\n",
              "    <tr>\n",
              "      <th>2</th>\n",
              "      <td>Modelo kernel rbf</td>\n",
              "      <td>0.866434</td>\n",
              "      <td>2.036909</td>\n",
              "      <td>0.889714</td>\n",
              "    </tr>\n",
              "    <tr>\n",
              "      <th>3</th>\n",
              "      <td>Modelo kernel sigmoid</td>\n",
              "      <td>0.499462</td>\n",
              "      <td>8.236262</td>\n",
              "      <td>0.669646</td>\n",
              "    </tr>\n",
              "    <tr>\n",
              "      <th>4</th>\n",
              "      <td>Modelo SVC grilla</td>\n",
              "      <td>0.976645</td>\n",
              "      <td>0.389672</td>\n",
              "      <td>0.983905</td>\n",
              "    </tr>\n",
              "    <tr>\n",
              "      <th>5</th>\n",
              "      <td>Modelo kernel rbf grilla</td>\n",
              "      <td>0.976645</td>\n",
              "      <td>0.389672</td>\n",
              "      <td>0.983905</td>\n",
              "    </tr>\n",
              "  </tbody>\n",
              "</table>\n",
              "</div>\n",
              "      <button class=\"colab-df-convert\" onclick=\"convertToInteractive('df-f62c4b7e-968d-4ace-8395-858ef21e6316')\"\n",
              "              title=\"Convert this dataframe to an interactive table.\"\n",
              "              style=\"display:none;\">\n",
              "        \n",
              "  <svg xmlns=\"http://www.w3.org/2000/svg\" height=\"24px\"viewBox=\"0 0 24 24\"\n",
              "       width=\"24px\">\n",
              "    <path d=\"M0 0h24v24H0V0z\" fill=\"none\"/>\n",
              "    <path d=\"M18.56 5.44l.94 2.06.94-2.06 2.06-.94-2.06-.94-.94-2.06-.94 2.06-2.06.94zm-11 1L8.5 8.5l.94-2.06 2.06-.94-2.06-.94L8.5 2.5l-.94 2.06-2.06.94zm10 10l.94 2.06.94-2.06 2.06-.94-2.06-.94-.94-2.06-.94 2.06-2.06.94z\"/><path d=\"M17.41 7.96l-1.37-1.37c-.4-.4-.92-.59-1.43-.59-.52 0-1.04.2-1.43.59L10.3 9.45l-7.72 7.72c-.78.78-.78 2.05 0 2.83L4 21.41c.39.39.9.59 1.41.59.51 0 1.02-.2 1.41-.59l7.78-7.78 2.81-2.81c.8-.78.8-2.07 0-2.86zM5.41 20L4 18.59l7.72-7.72 1.47 1.35L5.41 20z\"/>\n",
              "  </svg>\n",
              "      </button>\n",
              "      \n",
              "  <style>\n",
              "    .colab-df-container {\n",
              "      display:flex;\n",
              "      flex-wrap:wrap;\n",
              "      gap: 12px;\n",
              "    }\n",
              "\n",
              "    .colab-df-convert {\n",
              "      background-color: #E8F0FE;\n",
              "      border: none;\n",
              "      border-radius: 50%;\n",
              "      cursor: pointer;\n",
              "      display: none;\n",
              "      fill: #1967D2;\n",
              "      height: 32px;\n",
              "      padding: 0 0 0 0;\n",
              "      width: 32px;\n",
              "    }\n",
              "\n",
              "    .colab-df-convert:hover {\n",
              "      background-color: #E2EBFA;\n",
              "      box-shadow: 0px 1px 2px rgba(60, 64, 67, 0.3), 0px 1px 3px 1px rgba(60, 64, 67, 0.15);\n",
              "      fill: #174EA6;\n",
              "    }\n",
              "\n",
              "    [theme=dark] .colab-df-convert {\n",
              "      background-color: #3B4455;\n",
              "      fill: #D2E3FC;\n",
              "    }\n",
              "\n",
              "    [theme=dark] .colab-df-convert:hover {\n",
              "      background-color: #434B5C;\n",
              "      box-shadow: 0px 1px 3px 1px rgba(0, 0, 0, 0.15);\n",
              "      filter: drop-shadow(0px 1px 2px rgba(0, 0, 0, 0.3));\n",
              "      fill: #FFFFFF;\n",
              "    }\n",
              "  </style>\n",
              "\n",
              "      <script>\n",
              "        const buttonEl =\n",
              "          document.querySelector('#df-f62c4b7e-968d-4ace-8395-858ef21e6316 button.colab-df-convert');\n",
              "        buttonEl.style.display =\n",
              "          google.colab.kernel.accessAllowed ? 'block' : 'none';\n",
              "\n",
              "        async function convertToInteractive(key) {\n",
              "          const element = document.querySelector('#df-f62c4b7e-968d-4ace-8395-858ef21e6316');\n",
              "          const dataTable =\n",
              "            await google.colab.kernel.invokeFunction('convertToInteractive',\n",
              "                                                     [key], {});\n",
              "          if (!dataTable) return;\n",
              "\n",
              "          const docLinkHtml = 'Like what you see? Visit the ' +\n",
              "            '<a target=\"_blank\" href=https://colab.research.google.com/notebooks/data_table.ipynb>data table notebook</a>'\n",
              "            + ' to learn more about interactive tables.';\n",
              "          element.innerHTML = '';\n",
              "          dataTable['output_type'] = 'display_data';\n",
              "          await google.colab.output.renderOutput(dataTable, element);\n",
              "          const docLink = document.createElement('div');\n",
              "          docLink.innerHTML = docLinkHtml;\n",
              "          element.appendChild(docLink);\n",
              "        }\n",
              "      </script>\n",
              "    </div>\n",
              "  </div>\n",
              "  "
            ]
          },
          "metadata": {},
          "execution_count": 53
        }
      ]
    },
    {
      "cell_type": "code",
      "source": [
        "clf6_b"
      ],
      "metadata": {
        "colab": {
          "base_uri": "https://localhost:8080/"
        },
        "id": "K1qDqFpHmdIA",
        "outputId": "849f3fcd-4eee-400f-ca9e-6c9fbf1e86c6"
      },
      "execution_count": 68,
      "outputs": [
        {
          "output_type": "execute_result",
          "data": {
            "text/plain": [
              "SVC(C=1000, gamma=0.001)"
            ]
          },
          "metadata": {},
          "execution_count": 68
        }
      ]
    },
    {
      "cell_type": "markdown",
      "source": [
        "Se observa que los dos mejores modelos se obtuvieron mediante el método de grilla. <BR> Ahora bien, teniendo en cuenta los métodos de kernel que se utilizaron, se llega a la conclusión de que el mejor modelo es un kernel rbf con hiperparámetros:\n",
        "* C=1000\n",
        "* gamma=0.001\n"
      ],
      "metadata": {
        "id": "_0ZGBm0ejc50"
      }
    }
  ],
  "metadata": {
    "colab": {
      "collapsed_sections": [
        "3dk2ih2FyT8i",
        "bl0Y4beuyaie",
        "eZD45NjhydqE",
        "XdVVxJvTymo1",
        "a3U8yhpFyoXH",
        "ijwzlA_FQwHq",
        "0kggmI76QwHv",
        "DEIDdx3racsi",
        "xEcF4agQU5M-",
        "5RYRE6P-U9eK",
        "ffxVn6vrtujy",
        "PguBPuJZuN0t",
        "bM0463YKuVc1"
      ],
      "provenance": []
    },
    "kernelspec": {
      "display_name": "Python 3",
      "language": "python",
      "name": "python3"
    },
    "language_info": {
      "codemirror_mode": {
        "name": "ipython",
        "version": 3
      },
      "file_extension": ".py",
      "mimetype": "text/x-python",
      "name": "python",
      "nbconvert_exporter": "python",
      "pygments_lexer": "ipython3",
      "version": "3.7.0"
    }
  },
  "nbformat": 4,
  "nbformat_minor": 0
}